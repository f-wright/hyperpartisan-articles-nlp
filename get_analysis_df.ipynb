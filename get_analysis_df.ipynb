{
 "cells": [
  {
   "cell_type": "code",
   "execution_count": 1,
   "id": "1c079663",
   "metadata": {
    "ExecuteTime": {
     "end_time": "2024-04-07T23:58:58.489563Z",
     "start_time": "2024-04-07T23:58:58.116814Z"
    }
   },
   "outputs": [],
   "source": [
    "import xml.etree.cElementTree as et\n",
    "import pandas as pd\n",
    "import numpy as np"
   ]
  },
  {
   "cell_type": "code",
   "execution_count": 5,
   "id": "7efb9157",
   "metadata": {
    "ExecuteTime": {
     "end_time": "2024-04-08T00:08:05.777558Z",
     "start_time": "2024-04-08T00:08:05.761670Z"
    }
   },
   "outputs": [],
   "source": [
    "def get_article_data(ground_truth_path, training_path, labeled_by_article):\n",
    "    ground_truth_tree = et.parse(ground_truth_path)\n",
    "    ground_truth_root = ground_truth_tree.getroot()\n",
    "    \n",
    "    training_tree = et.parse(training_path)\n",
    "    training_root = training_tree.getroot()\n",
    "    \n",
    "    articles = ground_truth_root.findall('article')\n",
    "    article_dates =  training_root.findall('article')\n",
    "    \n",
    "    list_df = []\n",
    "    \n",
    "    if labeled_by_article: \n",
    "        for i in range(len(articles)):\n",
    "            article = articles[i]\n",
    "            article_date = article_dates[i]\n",
    "            try:\n",
    "                list_df += [[article.attrib['id'], article.attrib['hyperpartisan'], article.attrib['labeled-by'], article.attrib['url'], article_date.attrib[\"published-at\"], \"nan\"]]\n",
    "            except: \n",
    "                list_df += [[article.attrib['id'], article.attrib['hyperpartisan'], article.attrib['labeled-by'], article.attrib['url'], \"nan\", \"nan\"]]\n",
    "    else:\n",
    "        for i in range(len(articles)):\n",
    "            article = articles[i]\n",
    "            article_date = article_dates[i]\n",
    "            try:\n",
    "                list_df += [[article.attrib['id'], article.attrib['hyperpartisan'], article.attrib['labeled-by'], article.attrib['url'], article_date.attrib[\"published-at\"],  article.attrib['bias']]]\n",
    "            except: \n",
    "                list_df += [[article.attrib['id'], article.attrib['hyperpartisan'], article.attrib['labeled-by'], article.attrib['url'], \"nan\", article.attrib['bias']]]\n",
    "\n",
    "\n",
    "    return list_df"
   ]
  },
  {
   "cell_type": "code",
   "execution_count": 9,
   "id": "3ebdeeeb",
   "metadata": {
    "ExecuteTime": {
     "end_time": "2024-04-08T00:18:17.548531Z",
     "start_time": "2024-04-08T00:14:44.189913Z"
    }
   },
   "outputs": [],
   "source": [
    "list_df = get_article_data(\"data/ground-truth-training-byarticle-20181122.xml\", \n",
    "                                 \"data/articles-training-byarticle-20181122.xml\", True) \\\n",
    "                + get_article_data(\"data/ground-truth-training-bypublisher-20181122.xml\", \n",
    "                                 \"data/articles-training-bypublisher-20181122.xml\", False) \\\n",
    "                +  get_article_data(\"data/ground-truth-validation-bypublisher-20181122.xml\", \n",
    "                                 \"data/articles-validation-bypublisher-20181122.xml\", False)\n",
    "df = pd.DataFrame(list_df, columns = [\"id\", \"hyperpartisan\", \"labeled-by\", \"url\", \"published-at\", \"bias\"]) "
   ]
  },
  {
   "cell_type": "code",
   "execution_count": 10,
   "id": "6c47aff1",
   "metadata": {
    "ExecuteTime": {
     "end_time": "2024-04-08T00:18:17.566324Z",
     "start_time": "2024-04-08T00:18:17.552812Z"
    }
   },
   "outputs": [
    {
     "data": {
      "text/html": [
       "<div>\n",
       "<style scoped>\n",
       "    .dataframe tbody tr th:only-of-type {\n",
       "        vertical-align: middle;\n",
       "    }\n",
       "\n",
       "    .dataframe tbody tr th {\n",
       "        vertical-align: top;\n",
       "    }\n",
       "\n",
       "    .dataframe thead th {\n",
       "        text-align: right;\n",
       "    }\n",
       "</style>\n",
       "<table border=\"1\" class=\"dataframe\">\n",
       "  <thead>\n",
       "    <tr style=\"text-align: right;\">\n",
       "      <th></th>\n",
       "      <th>id</th>\n",
       "      <th>hyperpartisan</th>\n",
       "      <th>labeled-by</th>\n",
       "      <th>url</th>\n",
       "      <th>published-at</th>\n",
       "      <th>bias</th>\n",
       "    </tr>\n",
       "  </thead>\n",
       "  <tbody>\n",
       "    <tr>\n",
       "      <th>0</th>\n",
       "      <td>0000000</td>\n",
       "      <td>true</td>\n",
       "      <td>article</td>\n",
       "      <td>https://www.opednews.com/articles/Kucinich-Rec...</td>\n",
       "      <td>2017-09-10</td>\n",
       "      <td>nan</td>\n",
       "    </tr>\n",
       "    <tr>\n",
       "      <th>1</th>\n",
       "      <td>0000001</td>\n",
       "      <td>true</td>\n",
       "      <td>article</td>\n",
       "      <td>http://bipartisanreport.com/2017/10/12/trump-j...</td>\n",
       "      <td>2017-10-12</td>\n",
       "      <td>nan</td>\n",
       "    </tr>\n",
       "    <tr>\n",
       "      <th>2</th>\n",
       "      <td>0000002</td>\n",
       "      <td>true</td>\n",
       "      <td>article</td>\n",
       "      <td>https://www.reviewjournal.com/opinion/letters/...</td>\n",
       "      <td>2017-10-11</td>\n",
       "      <td>nan</td>\n",
       "    </tr>\n",
       "    <tr>\n",
       "      <th>3</th>\n",
       "      <td>0000003</td>\n",
       "      <td>true</td>\n",
       "      <td>article</td>\n",
       "      <td>https://www.redcuprebellion.com/2017/9/24/1635...</td>\n",
       "      <td>2017-09-24</td>\n",
       "      <td>nan</td>\n",
       "    </tr>\n",
       "    <tr>\n",
       "      <th>4</th>\n",
       "      <td>0000004</td>\n",
       "      <td>false</td>\n",
       "      <td>article</td>\n",
       "      <td>https://www.realclearpolitics.com/articles/201...</td>\n",
       "      <td>2017-10-12</td>\n",
       "      <td>nan</td>\n",
       "    </tr>\n",
       "    <tr>\n",
       "      <th>...</th>\n",
       "      <td>...</td>\n",
       "      <td>...</td>\n",
       "      <td>...</td>\n",
       "      <td>...</td>\n",
       "      <td>...</td>\n",
       "      <td>...</td>\n",
       "    </tr>\n",
       "    <tr>\n",
       "      <th>750640</th>\n",
       "      <td>1494825</td>\n",
       "      <td>true</td>\n",
       "      <td>publisher</td>\n",
       "      <td>http://politicususa.com/2017/10/04/russia-thro...</td>\n",
       "      <td>nan</td>\n",
       "      <td>left</td>\n",
       "    </tr>\n",
       "    <tr>\n",
       "      <th>750641</th>\n",
       "      <td>1494857</td>\n",
       "      <td>true</td>\n",
       "      <td>publisher</td>\n",
       "      <td>http://barbwire.com/2014/07/14/now-pronounce-s...</td>\n",
       "      <td>nan</td>\n",
       "      <td>right</td>\n",
       "    </tr>\n",
       "    <tr>\n",
       "      <th>750642</th>\n",
       "      <td>1494877</td>\n",
       "      <td>true</td>\n",
       "      <td>publisher</td>\n",
       "      <td>https://vox.com/2016/3/1/11144320/super-tuesda...</td>\n",
       "      <td>2016-03-15</td>\n",
       "      <td>left</td>\n",
       "    </tr>\n",
       "    <tr>\n",
       "      <th>750643</th>\n",
       "      <td>1494883</td>\n",
       "      <td>true</td>\n",
       "      <td>publisher</td>\n",
       "      <td>http://americannewsx.com/politics/liberal-redn...</td>\n",
       "      <td>2016-02-28</td>\n",
       "      <td>left</td>\n",
       "    </tr>\n",
       "    <tr>\n",
       "      <th>750644</th>\n",
       "      <td>1494893</td>\n",
       "      <td>false</td>\n",
       "      <td>publisher</td>\n",
       "      <td>http://themoderatevoice.com/obamas-victory-fou...</td>\n",
       "      <td>nan</td>\n",
       "      <td>least</td>\n",
       "    </tr>\n",
       "  </tbody>\n",
       "</table>\n",
       "<p>750645 rows × 6 columns</p>\n",
       "</div>"
      ],
      "text/plain": [
       "             id hyperpartisan labeled-by  \\\n",
       "0       0000000          true    article   \n",
       "1       0000001          true    article   \n",
       "2       0000002          true    article   \n",
       "3       0000003          true    article   \n",
       "4       0000004         false    article   \n",
       "...         ...           ...        ...   \n",
       "750640  1494825          true  publisher   \n",
       "750641  1494857          true  publisher   \n",
       "750642  1494877          true  publisher   \n",
       "750643  1494883          true  publisher   \n",
       "750644  1494893         false  publisher   \n",
       "\n",
       "                                                      url published-at   bias  \n",
       "0       https://www.opednews.com/articles/Kucinich-Rec...   2017-09-10    nan  \n",
       "1       http://bipartisanreport.com/2017/10/12/trump-j...   2017-10-12    nan  \n",
       "2       https://www.reviewjournal.com/opinion/letters/...   2017-10-11    nan  \n",
       "3       https://www.redcuprebellion.com/2017/9/24/1635...   2017-09-24    nan  \n",
       "4       https://www.realclearpolitics.com/articles/201...   2017-10-12    nan  \n",
       "...                                                   ...          ...    ...  \n",
       "750640  http://politicususa.com/2017/10/04/russia-thro...          nan   left  \n",
       "750641  http://barbwire.com/2014/07/14/now-pronounce-s...          nan  right  \n",
       "750642  https://vox.com/2016/3/1/11144320/super-tuesda...   2016-03-15   left  \n",
       "750643  http://americannewsx.com/politics/liberal-redn...   2016-02-28   left  \n",
       "750644  http://themoderatevoice.com/obamas-victory-fou...          nan  least  \n",
       "\n",
       "[750645 rows x 6 columns]"
      ]
     },
     "execution_count": 10,
     "metadata": {},
     "output_type": "execute_result"
    }
   ],
   "source": [
    "df"
   ]
  },
  {
   "cell_type": "code",
   "execution_count": 11,
   "id": "d996c9c3",
   "metadata": {
    "ExecuteTime": {
     "end_time": "2024-04-08T01:38:59.816315Z",
     "start_time": "2024-04-08T01:38:55.521669Z"
    }
   },
   "outputs": [],
   "source": [
    "df.to_csv(\"data/analysis_df.csv\")"
   ]
  }
 ],
 "metadata": {
  "kernelspec": {
   "display_name": "Python 3 (ipykernel)",
   "language": "python",
   "name": "python3"
  },
  "language_info": {
   "codemirror_mode": {
    "name": "ipython",
    "version": 3
   },
   "file_extension": ".py",
   "mimetype": "text/x-python",
   "name": "python",
   "nbconvert_exporter": "python",
   "pygments_lexer": "ipython3",
   "version": "3.9.13"
  }
 },
 "nbformat": 4,
 "nbformat_minor": 5
}
